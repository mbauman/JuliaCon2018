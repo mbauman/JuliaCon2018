{
 "cells": [
  {
   "cell_type": "markdown",
   "metadata": {
    "slideshow": {
     "slide_type": "slide"
    }
   },
   "source": [
    "<h1 style=\"text-align:center\">An introduction to<br />high-performance custom arrays<br /></h1>\n",
    "<br /><br />\n",
    "<h4 style=\"text-align:center; color:rgba(50, 50, 50, 1)\">\n",
    "    <img src=\"https://avatars2.githubusercontent.com/u/154641?s=460&v=4\" style=\"\n",
    "        border-bottom-color: rgba(0, 0, 0, 0.0980392);\n",
    "        border-bottom-left-radius: 300px;\n",
    "        border-bottom-right-radius: 300px;\n",
    "        border-bottom-style: solid;\n",
    "        border-bottom-width: 2px;\n",
    "        border-image-outset: 0px;\n",
    "        border-image-repeat: stretch;\n",
    "        border-image-slice: 100%;\n",
    "        border-image-source: none;\n",
    "        border-image-width: 1;\n",
    "        border-left-color: rgba(0, 0, 0, 0.0980392);\n",
    "        border-left-style: solid;\n",
    "        border-left-width: 2px;\n",
    "        border-right-color: rgba(0, 0, 0, 0.0980392);\n",
    "        border-right-style: solid;\n",
    "        border-right-width: 2px;\n",
    "        border-top-color: rgba(0, 0, 0, 0.0980392);\n",
    "        border-top-left-radius: 300px;\n",
    "        border-top-right-radius: 300px;\n",
    "        border-top-style: solid;\n",
    "        border-top-width: 2px;\n",
    "        box-sizing: border-box;\n",
    "        color: rgb(9, 96, 171);\n",
    "        cursor: auto;\n",
    "        display: inline;\n",
    "        font-family: 'Avenir Next', 'Helvetica Neue', 'Lucida Grande', Helvetica, Arial, sans-serif;\n",
    "        font-size: 42px;\n",
    "        font-style: normal;\n",
    "        font-variant-caps: normal;\n",
    "        font-weight: normal;\n",
    "        height: 100px;\n",
    "        line-height: 95px;\n",
    "        margin-bottom: 0px;\n",
    "        margin-left: 0px;\n",
    "        margin-right: 0px;\n",
    "        margin-top: 0px;\n",
    "        outline-color: rgb(9, 96, 171);\n",
    "        outline-style: none;\n",
    "        outline-width: 0px;\n",
    "        padding-bottom: 0px;\n",
    "        padding-left: 0px;\n",
    "        padding-right: 0px;\n",
    "        padding-top: 0px;\n",
    "        text-align: center;\n",
    "        text-decoration: none;\n",
    "        vertical-align: baseline;\n",
    "        width: 100px;\n",
    "    \" /><br />\n",
    "Matt Bauman<br />\n",
    "Julia Computing<br />\n",
    "</h4>"
   ]
  },
  {
   "cell_type": "markdown",
   "metadata": {
    "slideshow": {
     "slide_type": "notes"
    }
   },
   "source": [
    "## The challenge:\n",
    "\n",
    "Have something that folks from all levels will be able to appreciate:\n",
    "\n",
    "* **Beginner**\n",
    "    * Why do we have more than just `Array`s (and `Vector`s and `Matrices`)?\n",
    "    * What are the advantages of these non-`Array` arrays?\n",
    "* **Intermediate**\n",
    "    * Why might _you_ want to subtype (`<:`) an `AbstractArray`?\n",
    "    * How do you do it and how do the traits work? \n",
    "* **Advanced**\n",
    "    * How do you make it fast?\n",
    "    * What are the challenges and possible future features?"
   ]
  },
  {
   "cell_type": "markdown",
   "metadata": {
    "slideshow": {
     "slide_type": "slide"
    }
   },
   "source": [
    "```\n",
    "struct CustomArray{T,N,...} <: AbstractArray{T, N}\n",
    "```"
   ]
  },
  {
   "cell_type": "markdown",
   "metadata": {
    "slideshow": {
     "slide_type": "slide"
    }
   },
   "source": [
    "## What is an array?\n",
    "\n",
    "Container that holds things in a multi-dimensional rectangular shape"
   ]
  },
  {
   "cell_type": "markdown",
   "metadata": {
    "slideshow": {
     "slide_type": "fragment"
    }
   },
   "source": [
    "* The `AbstractArray` defines the _behaviors_ and _requirements_"
   ]
  },
  {
   "cell_type": "markdown",
   "metadata": {
    "slideshow": {
     "slide_type": "slide"
    }
   },
   "source": [
    "## What is an `Array`?"
   ]
  },
  {
   "cell_type": "code",
   "execution_count": null,
   "metadata": {},
   "outputs": [],
   "source": [
    "[1,2,3]"
   ]
  },
  {
   "cell_type": "markdown",
   "metadata": {
    "slideshow": {
     "slide_type": "fragment"
    }
   },
   "source": [
    "* A built-in subtype of `AbstractArray` that defines a particular _implementation_"
   ]
  },
  {
   "cell_type": "markdown",
   "metadata": {
    "slideshow": {
     "slide_type": "slide"
    }
   },
   "source": [
    "## Why would we need more than `Array`?\n",
    "\n",
    "```julia\n",
    "for i in 1:4\n",
    "    # do something four times\n",
    "end\n",
    "```"
   ]
  },
  {
   "cell_type": "code",
   "execution_count": null,
   "metadata": {
    "slideshow": {
     "slide_type": "fragment"
    }
   },
   "outputs": [],
   "source": [
    "1:4 isa AbstractArray"
   ]
  },
  {
   "cell_type": "code",
   "execution_count": null,
   "metadata": {
    "slideshow": {
     "slide_type": "-"
    }
   },
   "outputs": [],
   "source": [
    "(1:4)[3]"
   ]
  },
  {
   "cell_type": "code",
   "execution_count": null,
   "metadata": {
    "scrolled": false
   },
   "outputs": [],
   "source": [
    "[1 10 100 1000\n",
    " 2 20 200 2000\n",
    " 3 30 300 3000] * (1:4)"
   ]
  },
  {
   "cell_type": "markdown",
   "metadata": {
    "slideshow": {
     "slide_type": "slide"
    }
   },
   "source": [
    "## Why would we need more than `Array`?"
   ]
  },
  {
   "cell_type": "code",
   "execution_count": null,
   "metadata": {
    "slideshow": {
     "slide_type": "-"
    }
   },
   "outputs": [],
   "source": [
    "function f()\n",
    "    r = 0.0\n",
    "    @time for n in 1:2_000_000_000\n",
    "        r += 1/(n^2)\n",
    "    end\n",
    "    r\n",
    "end\n",
    "f()"
   ]
  },
  {
   "cell_type": "code",
   "execution_count": null,
   "metadata": {
    "scrolled": true
   },
   "outputs": [],
   "source": [
    "(2_000_000_000)*sizeof(Int)/(1024*1024*1024)"
   ]
  },
  {
   "cell_type": "markdown",
   "metadata": {
    "slideshow": {
     "slide_type": "slide"
    }
   },
   "source": [
    "## Why would we need more than `Array`?"
   ]
  },
  {
   "cell_type": "code",
   "execution_count": null,
   "metadata": {},
   "outputs": [],
   "source": [
    "dump(1:2_000_000_000)"
   ]
  },
  {
   "cell_type": "markdown",
   "metadata": {
    "slideshow": {
     "slide_type": "skip"
    }
   },
   "source": [
    "## Ranges"
   ]
  },
  {
   "cell_type": "code",
   "execution_count": null,
   "metadata": {
    "slideshow": {
     "slide_type": "skip"
    }
   },
   "outputs": [],
   "source": [
    "@which (1:4)[1]"
   ]
  },
  {
   "cell_type": "code",
   "execution_count": null,
   "metadata": {
    "slideshow": {
     "slide_type": "skip"
    }
   },
   "outputs": [],
   "source": [
    "@which size(1:4)"
   ]
  },
  {
   "cell_type": "code",
   "execution_count": null,
   "metadata": {
    "slideshow": {
     "slide_type": "skip"
    }
   },
   "outputs": [],
   "source": [
    "@which rand(4, 4) * (1:4)"
   ]
  },
  {
   "cell_type": "markdown",
   "metadata": {
    "slideshow": {
     "slide_type": "slide"
    }
   },
   "source": [
    "## Your own custom array: why?"
   ]
  },
  {
   "cell_type": "code",
   "execution_count": null,
   "metadata": {},
   "outputs": [],
   "source": [
    "# Add a default argument\n",
    "function weighted_sum(A, weights=ones(size(A)))\n",
    "    r = zero(A[1])\n",
    "    for i in eachindex(A, weights)\n",
    "        r += A[i]*weights[i]\n",
    "    end\n",
    "    return r\n",
    "end"
   ]
  },
  {
   "cell_type": "code",
   "execution_count": null,
   "metadata": {
    "slideshow": {
     "slide_type": "fragment"
    }
   },
   "outputs": [],
   "source": [
    "using BenchmarkTools\n",
    "A = rand(1000,1000)\n",
    "@btime sum($A)"
   ]
  },
  {
   "cell_type": "markdown",
   "metadata": {
    "slideshow": {
     "slide_type": "slide"
    }
   },
   "source": [
    "## What is an array?\n",
    "\n",
    "_Container that holds things in a rectangular shape_\n",
    "\n",
    "Julia just needs to know:\n",
    "\n",
    "* What is its shape? `Base.size`\n",
    "* How does it get a thing out? `Base.getindex`\n",
    "* What types of things does it support? And what is its dimensionality?\n",
    "\n",
    "_That's it._"
   ]
  },
  {
   "cell_type": "markdown",
   "metadata": {
    "slideshow": {
     "slide_type": "fragment"
    }
   },
   "source": [
    "* How does it change a thing? `Base.setindex!`"
   ]
  },
  {
   "cell_type": "markdown",
   "metadata": {
    "slideshow": {
     "slide_type": "slide"
    }
   },
   "source": [
    "## We can make a better default value"
   ]
  },
  {
   "cell_type": "code",
   "execution_count": null,
   "metadata": {},
   "outputs": [],
   "source": [
    "module V1\n",
    "struct OnesMatrix <: AbstractArray{Int, 2}\n",
    "    m::Int\n",
    "    n::Int\n",
    "end\n",
    "Base.size(o::OnesMatrix) = (o.m, o.n)\n",
    "Base.getindex(o::OnesMatrix, i::Int, j::Int) = 1\n",
    "end"
   ]
  },
  {
   "cell_type": "code",
   "execution_count": null,
   "metadata": {},
   "outputs": [],
   "source": [
    "# Examine x & more (slicing, indexing, multiplication, broadcast)\n",
    "x = OnesMatrix(1000,1000)\n",
    "using LinearAlgebra\n",
    "svdvals(x)"
   ]
  },
  {
   "cell_type": "markdown",
   "metadata": {
    "slideshow": {
     "slide_type": "slide"
    }
   },
   "source": [
    "## Our new weighted sum"
   ]
  },
  {
   "cell_type": "code",
   "execution_count": null,
   "metadata": {
    "scrolled": true
   },
   "outputs": [],
   "source": [
    "function weighted_sum(A, weights=V1.OnesMatrix(size(A)...))\n",
    "    r = zero(A[1])\n",
    "    for i in eachindex(A, weights)\n",
    "        r += A[i]*weights[i]\n",
    "    end\n",
    "    return r\n",
    "end"
   ]
  },
  {
   "cell_type": "code",
   "execution_count": null,
   "metadata": {},
   "outputs": [],
   "source": [
    "@btime weighted_sum($A)"
   ]
  },
  {
   "cell_type": "markdown",
   "metadata": {
    "slideshow": {
     "slide_type": "slide"
    }
   },
   "source": [
    "## A closer look at `OnesMatrix`"
   ]
  },
  {
   "cell_type": "code",
   "execution_count": null,
   "metadata": {},
   "outputs": [],
   "source": [
    "x = V1.OnesMatrix(3,3)\n",
    "x[4, 4]"
   ]
  },
  {
   "cell_type": "code",
   "execution_count": null,
   "metadata": {},
   "outputs": [],
   "source": [
    "x[-123123,123123]"
   ]
  },
  {
   "cell_type": "code",
   "execution_count": null,
   "metadata": {},
   "outputs": [],
   "source": [
    "x[-3] # (and try vector indices)"
   ]
  },
  {
   "cell_type": "markdown",
   "metadata": {
    "slideshow": {
     "slide_type": "slide"
    }
   },
   "source": [
    "## Add bounds checking!"
   ]
  },
  {
   "cell_type": "code",
   "execution_count": null,
   "metadata": {},
   "outputs": [],
   "source": [
    "module V2\n",
    "struct OnesMatrix <: AbstractArray{Int, 2}\n",
    "    m::Int\n",
    "    n::Int\n",
    "end\n",
    "Base.size(o::OnesMatrix) = (o.m, o.n)\n",
    "function Base.getindex(o::OnesMatrix, i::Int, j::Int)\n",
    "    checkbounds(o, i, j)\n",
    "    return 1\n",
    "end\n",
    "end"
   ]
  },
  {
   "cell_type": "code",
   "execution_count": null,
   "metadata": {},
   "outputs": [],
   "source": [
    "V2.OnesMatrix(5,5)[6,6]"
   ]
  },
  {
   "cell_type": "markdown",
   "metadata": {
    "slideshow": {
     "slide_type": "slide"
    }
   },
   "source": [
    "## Add bounds checking!"
   ]
  },
  {
   "cell_type": "code",
   "execution_count": null,
   "metadata": {},
   "outputs": [],
   "source": [
    "function weighted_sum(A, weights=V2.OnesMatrix(size(A)...))\n",
    "    r = zero(A[1])\n",
    "    @inbounds for i in eachindex(A, weights)\n",
    "        r += A[i]*weights[i]\n",
    "    end\n",
    "    return r\n",
    "end\n",
    "@btime weighted_sum($A)"
   ]
  },
  {
   "cell_type": "markdown",
   "metadata": {
    "slideshow": {
     "slide_type": "slide"
    }
   },
   "source": [
    "## Opt-in to bounds check removal"
   ]
  },
  {
   "cell_type": "code",
   "execution_count": null,
   "metadata": {},
   "outputs": [],
   "source": [
    "module V3\n",
    "struct OnesMatrix <: AbstractMatrix{Int}\n",
    "    m::Int\n",
    "    n::Int\n",
    "end\n",
    "Base.size(o::OnesMatrix) = (o.m, o.n)\n",
    "@inline function Base.getindex(o::OnesMatrix, i::Int, j::Int)\n",
    "    @boundscheck begin\n",
    "        checkbounds(o, i, j)\n",
    "    end\n",
    "    1\n",
    "end\n",
    "end"
   ]
  },
  {
   "cell_type": "code",
   "execution_count": null,
   "metadata": {
    "slideshow": {
     "slide_type": "fragment"
    }
   },
   "outputs": [],
   "source": [
    "function weighted_sum(A, weights=V3.OnesMatrix(size(A)...))\n",
    "    r = zero(A[1])\n",
    "    @inbounds for i in eachindex(A, weights)\n",
    "        r += A[i]*weights[i]\n",
    "    end\n",
    "    return r\n",
    "end\n",
    "@btime weighted_sum($A)"
   ]
  },
  {
   "cell_type": "markdown",
   "metadata": {
    "slideshow": {
     "slide_type": "slide"
    }
   },
   "source": [
    "## We can do better"
   ]
  },
  {
   "cell_type": "code",
   "execution_count": null,
   "metadata": {},
   "outputs": [],
   "source": [
    "eachindex(V3.OnesMatrix(4, 3))"
   ]
  },
  {
   "cell_type": "code",
   "execution_count": null,
   "metadata": {},
   "outputs": [],
   "source": [
    "eachindex(A) # == 1:1000000"
   ]
  },
  {
   "cell_type": "code",
   "execution_count": null,
   "metadata": {},
   "outputs": [],
   "source": [
    "IndexStyle(V3.OnesMatrix(4, 3), A)"
   ]
  },
  {
   "cell_type": "markdown",
   "metadata": {
    "slideshow": {
     "slide_type": "slide"
    }
   },
   "source": [
    "## We can do better"
   ]
  },
  {
   "cell_type": "code",
   "execution_count": null,
   "metadata": {},
   "outputs": [],
   "source": [
    "module V4\n",
    "struct OnesMatrix <: AbstractArray{Int, 2}\n",
    "    m::Int\n",
    "    n::Int\n",
    "end\n",
    "Base.size(o::OnesMatrix) = (o.m, o.n)\n",
    "Base.IndexStyle(::Type{OnesMatrix}) = IndexLinear()\n",
    "@inline function Base.getindex(o::OnesMatrix, i::Int)\n",
    "    @boundscheck checkbounds(o, i)\n",
    "    1\n",
    "end\n",
    "end"
   ]
  },
  {
   "cell_type": "code",
   "execution_count": null,
   "metadata": {},
   "outputs": [],
   "source": [
    "function weighted_sum(A, weights=V4.OnesMatrix(size(A)...))\n",
    "    r = zero(A[1])\n",
    "    @inbounds for i in eachindex(A, weights)\n",
    "        r += A[i]*weights[i]\n",
    "    end\n",
    "    return r\n",
    "end\n",
    "@btime weighted_sum($A)"
   ]
  },
  {
   "cell_type": "markdown",
   "metadata": {
    "slideshow": {
     "slide_type": "slide"
    }
   },
   "source": [
    "## Key considerations for bounds-check removal"
   ]
  },
  {
   "cell_type": "code",
   "execution_count": null,
   "metadata": {},
   "outputs": [],
   "source": [
    "x = V4.OnesMatrix(5,5)\n",
    "@inbounds x[123,123]"
   ]
  },
  {
   "cell_type": "markdown",
   "metadata": {
    "slideshow": {
     "slide_type": "fragment"
    }
   },
   "source": [
    "* Only occurs within functions — not at global scope"
   ]
  },
  {
   "cell_type": "markdown",
   "metadata": {
    "slideshow": {
     "slide_type": "slide"
    }
   },
   "source": [
    "## Key considerations for bounds-check removal"
   ]
  },
  {
   "cell_type": "code",
   "execution_count": null,
   "metadata": {
    "slideshow": {
     "slide_type": "-"
    }
   },
   "outputs": [],
   "source": [
    "x = V4.OnesMatrix(5,5)\n",
    "f(arg) = @inbounds arg[123,123]\n",
    "f(x)"
   ]
  },
  {
   "cell_type": "markdown",
   "metadata": {
    "slideshow": {
     "slide_type": "fragment"
    }
   },
   "source": [
    "* Does not work with type-unstabilities"
   ]
  },
  {
   "cell_type": "markdown",
   "metadata": {
    "slideshow": {
     "slide_type": "slide"
    }
   },
   "source": [
    "## One last iteration"
   ]
  },
  {
   "cell_type": "code",
   "execution_count": null,
   "metadata": {},
   "outputs": [],
   "source": [
    "weighted_sum([1,2,3,4,5])"
   ]
  },
  {
   "cell_type": "code",
   "execution_count": null,
   "metadata": {},
   "outputs": [],
   "source": [
    "struct OnesArray{N} <: AbstractArray{Int, N}\n",
    "    dims::NTuple{N, Int}\n",
    "end\n",
    "OnesArray(dims...) = OnesArray{length(dims)}(dims)\n",
    "Base.size(o::OnesArray) = o.dims\n",
    "Base.IndexStyle(::Type{<:OnesArray}) = IndexLinear()\n",
    "@inline function Base.getindex(o::OnesArray, i::Int)\n",
    "    @boundscheck checkbounds(o, i)\n",
    "    1\n",
    "end"
   ]
  },
  {
   "cell_type": "code",
   "execution_count": null,
   "metadata": {},
   "outputs": [],
   "source": [
    "# Try out the ones array\n",
    "OnesArray(3, 3)"
   ]
  },
  {
   "cell_type": "markdown",
   "metadata": {
    "slideshow": {
     "slide_type": "slide"
    }
   },
   "source": [
    "## One last iteration"
   ]
  },
  {
   "cell_type": "code",
   "execution_count": null,
   "metadata": {},
   "outputs": [],
   "source": [
    "function weighted_sum(A, weights=OnesArray(size(A)))\n",
    "    r = zero(A[1])\n",
    "    @inbounds for i in eachindex(A, weights)\n",
    "        r += A[i]*weights[i]\n",
    "    end\n",
    "    return r\n",
    "end\n",
    "@btime weighted_sum($A)"
   ]
  },
  {
   "cell_type": "code",
   "execution_count": null,
   "metadata": {},
   "outputs": [],
   "source": [
    "x = 1:1000000\n",
    "@btime weighted_sum($x) # check @code_llvm weighted_sum(1:400000)"
   ]
  },
  {
   "cell_type": "markdown",
   "metadata": {
    "slideshow": {
     "slide_type": "slide"
    }
   },
   "source": [
    "## The real challenge with `AbstractArray`\n",
    "\n",
    "* Implementing the optimizations you want!"
   ]
  },
  {
   "cell_type": "code",
   "execution_count": null,
   "metadata": {},
   "outputs": [],
   "source": [
    "x = OnesArray(20,20)\n",
    "x[[2],[3,4,5]]"
   ]
  },
  {
   "cell_type": "code",
   "execution_count": null,
   "metadata": {},
   "outputs": [],
   "source": [
    "Base.getindex(::OnesArray{2}, I::AbstractVector{Int}, J::AbstractVector{Int}) =\n",
    "    OnesArray(length(I), length(J))\n",
    "x[[2],[3,4,5]]"
   ]
  },
  {
   "cell_type": "code",
   "execution_count": null,
   "metadata": {},
   "outputs": [],
   "source": [
    "x[[3,4,5], 2]"
   ]
  },
  {
   "cell_type": "code",
   "execution_count": null,
   "metadata": {},
   "outputs": [],
   "source": [
    "function Base.getindex(o::OnesArray, I...)\n",
    "    # Handle everything yourself !!"
   ]
  },
  {
   "cell_type": "markdown",
   "metadata": {
    "slideshow": {
     "slide_type": "slide"
    }
   },
   "source": [
    "## Broadcasting"
   ]
  },
  {
   "cell_type": "markdown",
   "metadata": {
    "slideshow": {
     "slide_type": "-"
    }
   },
   "source": [
    "```julia\n",
    "R .= X .+ Y .* Z\n",
    "```"
   ]
  },
  {
   "cell_type": "markdown",
   "metadata": {
    "slideshow": {
     "slide_type": "fragment"
    }
   },
   "source": [
    "```julia\n",
    "for (rᵢ, xᵢ, yᵢ, zᵢ) in ????\n",
    "    R[rᵢ] = X[xᵢ] + Y[yᵢ]*Z[zᵢ]\n",
    "end\n",
    "```"
   ]
  },
  {
   "cell_type": "markdown",
   "metadata": {
    "slideshow": {
     "slide_type": "slide"
    }
   },
   "source": [
    "## Broadcast syntax expansion to a run-time representation:"
   ]
  },
  {
   "cell_type": "code",
   "execution_count": null,
   "metadata": {},
   "outputs": [],
   "source": [
    "Meta.@lower 1 .+ 2 .* 3"
   ]
  },
  {
   "cell_type": "code",
   "execution_count": null,
   "metadata": {},
   "outputs": [],
   "source": [
    "import .Broadcast: materialize, broadcasted\n",
    "_4 = broadcasted(*, 2, 3)\n",
    "_5 = broadcasted(+, 1, _4)\n",
    "# materialize(_5)\n",
    "bc = _5"
   ]
  },
  {
   "cell_type": "code",
   "execution_count": null,
   "metadata": {},
   "outputs": [],
   "source": [
    "# dig into bc\n",
    "bc.args[2]"
   ]
  },
  {
   "cell_type": "markdown",
   "metadata": {
    "slideshow": {
     "slide_type": "slide"
    }
   },
   "source": [
    "## Broadcast implementation trick #1: `@inline`\n",
    "\n",
    "* `Broadcasted` objects can get huge!\n",
    "* The trick: just be careful that Julia is able to completely skip creating them in the first place.\n",
    "* Ensure that everything inlines between `Broadcasted` \"creation\" and \"execution\"\n",
    "* In general purpose code, Julia's `@inline` heuristics are really quite good, but here it pays to `@inline` like crazy"
   ]
  },
  {
   "cell_type": "markdown",
   "metadata": {
    "slideshow": {
     "slide_type": "slide"
    }
   },
   "source": [
    "## Easiest way to customize broadcast: `broadcasted`"
   ]
  },
  {
   "cell_type": "code",
   "execution_count": null,
   "metadata": {},
   "outputs": [],
   "source": [
    "OnesArray(3,5) .+ 1.5"
   ]
  },
  {
   "cell_type": "code",
   "execution_count": null,
   "metadata": {},
   "outputs": [],
   "source": [
    "using FillArrays\n",
    "Base.Broadcast.broadcasted(::typeof(+), o::OnesArray, n::Number) =\n",
    "    Fill(1+n, size(o))\n",
    "Base.Broadcast.broadcasted(::typeof(+), n::Number, o::OnesArray) =\n",
    "    Fill(n+1, size(o))"
   ]
  },
  {
   "cell_type": "markdown",
   "metadata": {
    "slideshow": {
     "slide_type": "slide"
    }
   },
   "source": [
    "## Broadcast implementation trick #2: multiple dispatch\n",
    "\n",
    "* Multiple dispatch is powerful: use it!\n",
    "* Find places in the API that can benefit from a bit of indirection\n",
    "* Exploit that indirection to allow specializations to return something that can quack the same\n",
    "* Here: I introduced the `broadcasted` function instead of calling the `Broadcasted` constructor directly\n",
    "* This is how ranges behave sanely and efficiently with respect to `+` and `.+` on 0.7: they define a bunch of `broadcasted` methods to opt-out of fusion (when possible) and immediately compute the answer in O(1) time."
   ]
  },
  {
   "cell_type": "markdown",
   "metadata": {
    "slideshow": {
     "slide_type": "slide"
    }
   },
   "source": [
    "## Next-easiest way to customize broadcast: `broadcastable`"
   ]
  },
  {
   "cell_type": "markdown",
   "metadata": {},
   "source": [
    "* The default `broadcasted` implementation asks each and every argument for its `broadcastable` representation before constructing the `Broadcasted`\n",
    "* Something is `broadcastable` if it supports `axes` and `getindex`"
   ]
  },
  {
   "cell_type": "code",
   "execution_count": null,
   "metadata": {},
   "outputs": [],
   "source": [
    "using .Broadcast: broadcastable\n",
    "broadcastable(:sym)"
   ]
  },
  {
   "cell_type": "markdown",
   "metadata": {
    "slideshow": {
     "slide_type": "slide"
    }
   },
   "source": [
    "## Broadcast implementation trick #3: wrapper objects\n",
    "\n",
    "* Don't bend over backwards to support particular things\n",
    "* Make the things bend for you!\n",
    "* Note how this compares to traits:\n",
    "    * Need to support \"scalar-like\" things like `Type`s (which definitely aren't indexable in the way we want) and non-scalars like arrays\n",
    "    * Could ask them for a `IsScalar(T)` trait — in which case I'd need to carry that around and eventually ask \"should I index into you?\" before doing the indexing\n",
    "    * Or I could just ask them for a common representation and delegate that concern"
   ]
  },
  {
   "cell_type": "markdown",
   "metadata": {
    "slideshow": {
     "slide_type": "slide"
    }
   },
   "source": [
    "## The hard way: `BroadcastStyle` traits"
   ]
  },
  {
   "cell_type": "code",
   "execution_count": null,
   "metadata": {},
   "outputs": [],
   "source": [
    "using .Broadcast: BroadcastStyle, AbstractArrayStyle\n",
    "struct FillStyle{N} <: AbstractArrayStyle{N} end\n",
    "FillStyle{M}(::Val{N}) where {M,N} = FillStyle{max(N,M)}()\n",
    "BroadcastStyle(::Type{T}) where {T<:Fill} = FillStyle{ndims(T)}()"
   ]
  },
  {
   "cell_type": "code",
   "execution_count": null,
   "metadata": {},
   "outputs": [],
   "source": [
    "bc = broadcasted(sqrt, Fill(2, 1), Fill(3, 1, 5))"
   ]
  },
  {
   "cell_type": "code",
   "execution_count": null,
   "metadata": {},
   "outputs": [],
   "source": [
    "typeof(bc)"
   ]
  },
  {
   "cell_type": "code",
   "execution_count": null,
   "metadata": {},
   "outputs": [],
   "source": [
    "function copy(bc::Broadcasted{<:FillStyle})\n",
    "    # implement broadcast on your own"
   ]
  },
  {
   "cell_type": "markdown",
   "metadata": {
    "slideshow": {
     "slide_type": "slide"
    }
   },
   "source": [
    "## `BroadcastStyle` promotion\n",
    "\n",
    "* All arguments are combined with a two-argument `BroadcastStyle` method that \"promotes\" to a common style\n",
    "* This is how you can dispatch on one of your types \"buried\" within a variable number of arguments — you make your `Style` win over other styles\n",
    "\n"
   ]
  },
  {
   "cell_type": "markdown",
   "metadata": {
    "slideshow": {
     "slide_type": "slide"
    }
   },
   "source": [
    "## More details in the interfaces chapter\n",
    "\n",
    "<br />\n",
    "\n",
    "#### https://docs.julialang.org/en/stable/manual/interfaces/\n",
    "\n",
    "Thanks to Jameson Nash, Tim Holy and countless others"
   ]
  },
  {
   "cell_type": "markdown",
   "metadata": {
    "slideshow": {
     "slide_type": "slide"
    }
   },
   "source": [
    "## Quick benchmarking tips\n",
    "\n",
    "* Benchmarks are hard\n",
    "* Use BenchmarkTools.jl!\n",
    "* Remember that `@benchmark` and `@btime` simulate the performance of your code as though it were written within a function\n",
    "* Beware the distinction between global and local references\n",
    "    * Flag locals with a `$` interpolation\n",
    "* Microbenchmarks run through the same code and data — can lead to misleading cache and branch performance"
   ]
  },
  {
   "cell_type": "code",
   "execution_count": null,
   "metadata": {
    "scrolled": true
   },
   "outputs": [],
   "source": [
    "x = OnesArray(5)\n",
    "i = 1\n",
    "f_inbounds(x, i) = @inbounds x[i]\n",
    "@btime $x[$i]\n",
    "@btime @inbounds $x[$i]\n",
    "@btime f_inbounds($x, $i)\n",
    "@btime OnesArray(5)[1]\n",
    "@btime OnesArray($5)[1]"
   ]
  },
  {
   "cell_type": "code",
   "execution_count": null,
   "metadata": {
    "scrolled": true
   },
   "outputs": [],
   "source": [
    "@code_llvm f_inbounds(x, 1)"
   ]
  },
  {
   "cell_type": "markdown",
   "metadata": {
    "slideshow": {
     "slide_type": "slide"
    }
   },
   "source": [
    "## Views and wrappers"
   ]
  },
  {
   "cell_type": "markdown",
   "metadata": {},
   "source": [
    "The same concept can be used to layer views and \"wrappers\" together, for example a `SubArray` (created by `view` or `@views`) _just_ knows how to subset arrays.  That's it:"
   ]
  },
  {
   "cell_type": "code",
   "execution_count": null,
   "metadata": {},
   "outputs": [],
   "source": [
    "X = rand(3,3,3)\n",
    "V = view(X, [1,1], 2, 1:2)"
   ]
  },
  {
   "cell_type": "code",
   "execution_count": null,
   "metadata": {},
   "outputs": [],
   "source": [
    "V.indices"
   ]
  },
  {
   "cell_type": "code",
   "execution_count": null,
   "metadata": {},
   "outputs": [],
   "source": [
    "V.parent === A"
   ]
  },
  {
   "cell_type": "code",
   "execution_count": null,
   "metadata": {},
   "outputs": [],
   "source": [
    "@code_lowered V[1,2]"
   ]
  },
  {
   "cell_type": "markdown",
   "metadata": {},
   "source": [
    "## Views and wrappers\n",
    "\n",
    "This is a common idiom — more and more wrapper arrays are arriving with Julia 0.7/1.0."
   ]
  },
  {
   "cell_type": "code",
   "execution_count": null,
   "metadata": {},
   "outputs": [],
   "source": [
    "reshape(V, 1, :)"
   ]
  },
  {
   "cell_type": "code",
   "execution_count": null,
   "metadata": {},
   "outputs": [],
   "source": [
    "V'"
   ]
  },
  {
   "cell_type": "code",
   "execution_count": null,
   "metadata": {
    "scrolled": true
   },
   "outputs": [],
   "source": [
    "reinterpret(Float64, V)"
   ]
  }
 ],
 "metadata": {
  "kernelspec": {
   "display_name": "Julia 0.7.0-rc2",
   "language": "julia",
   "name": "julia-0.7"
  },
  "language_info": {
   "file_extension": ".jl",
   "mimetype": "application/julia",
   "name": "julia",
   "version": "0.7.0"
  },
  "livereveal": {
   "transition": "zoom"
  }
 },
 "nbformat": 4,
 "nbformat_minor": 2
}
